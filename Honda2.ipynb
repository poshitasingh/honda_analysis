{
 "cells": [
  {
   "cell_type": "code",
   "execution_count": 103,
   "metadata": {},
   "outputs": [],
   "source": [
    "import pandas as pd\n",
    "pd.set_option('display.max_rows', 5000)\n",
    "import numpy as np\n",
    "import glob\n",
    "import os\n",
    "import matplotlib.pyplot as plt\n",
    "from pandas.io.json import json_normalize\n",
    "from tqdm import tqdm\n",
    "from ipywidgets import FloatProgress\n",
    "# tqdm().pandas()\n",
    "%matplotlib qt"
   ]
  },
  {
   "cell_type": "code",
   "execution_count": 151,
   "metadata": {},
   "outputs": [],
   "source": [
    "fixpath = 'D:/honda data/Delhi - 2015 Nov/DL2CAT0433_Honda Amaze'\n",
    "# folders = [ name for name in os.listdir('D:/honda data/percarpercitydata/') if os.path.isdir(os.path.join('D:/honda data/percarpercitydata/', name)) ]\n",
    "\n",
    "# # paths = glob.glob('D:/honda data/percarpercitydata/Ahmedabad - 2016 Oct/')\n",
    "# folders"
   ]
  },
  {
   "cell_type": "code",
   "execution_count": 152,
   "metadata": {},
   "outputs": [
    {
     "name": "stderr",
     "output_type": "stream",
     "text": [
      "0it [00:00, ?it/s]"
     ]
    },
    {
     "name": "stdout",
     "output_type": "stream",
     "text": [
      "null\n"
     ]
    },
    {
     "name": "stderr",
     "output_type": "stream",
     "text": [
      "1it [00:00,  1.85it/s]"
     ]
    },
    {
     "name": "stdout",
     "output_type": "stream",
     "text": [
      "[0] [402]\n"
     ]
    },
    {
     "name": "stderr",
     "output_type": "stream",
     "text": [
      "C:\\Users\\Poshita\\Anaconda3\\lib\\site-packages\\ipykernel_launcher.py:37: SettingWithCopyWarning: \n",
      "A value is trying to be set on a copy of a slice from a DataFrame.\n",
      "Try using .loc[row_indexer,col_indexer] = value instead\n",
      "\n",
      "See the caveats in the documentation: http://pandas.pydata.org/pandas-docs/stable/user_guide/indexing.html#returning-a-view-versus-a-copy\n",
      "2it [00:00,  2.06it/s]"
     ]
    },
    {
     "name": "stdout",
     "output_type": "stream",
     "text": [
      "[0] [186]\n",
      "[0] [1003]\n"
     ]
    },
    {
     "name": "stderr",
     "output_type": "stream",
     "text": [
      "4it [00:01,  2.71it/s]"
     ]
    },
    {
     "name": "stdout",
     "output_type": "stream",
     "text": [
      "[0] [6891]\n"
     ]
    },
    {
     "name": "stderr",
     "output_type": "stream",
     "text": [
      "5it [00:01,  2.30it/s]"
     ]
    },
    {
     "name": "stdout",
     "output_type": "stream",
     "text": [
      "[0] [3]\n",
      "[0] [5565]\n"
     ]
    },
    {
     "name": "stderr",
     "output_type": "stream",
     "text": [
      "7it [00:02,  2.73it/s]"
     ]
    },
    {
     "name": "stdout",
     "output_type": "stream",
     "text": [
      "[0] [2244]\n"
     ]
    },
    {
     "name": "stderr",
     "output_type": "stream",
     "text": [
      "8it [00:02,  3.16it/s]"
     ]
    },
    {
     "name": "stdout",
     "output_type": "stream",
     "text": [
      "[0] [1065]\n"
     ]
    },
    {
     "name": "stderr",
     "output_type": "stream",
     "text": [
      "9it [00:02,  3.64it/s]"
     ]
    },
    {
     "name": "stdout",
     "output_type": "stream",
     "text": [
      "[0] [87]\n",
      "[103] [1085]\n"
     ]
    },
    {
     "name": "stderr",
     "output_type": "stream",
     "text": [
      "11it [00:02,  4.33it/s]"
     ]
    },
    {
     "name": "stdout",
     "output_type": "stream",
     "text": [
      "[0] [583]\n"
     ]
    },
    {
     "name": "stderr",
     "output_type": "stream",
     "text": [
      "12it [00:02,  4.90it/s]"
     ]
    },
    {
     "name": "stdout",
     "output_type": "stream",
     "text": [
      "[0] [16558]\n"
     ]
    },
    {
     "name": "stderr",
     "output_type": "stream",
     "text": [
      "13it [00:04,  1.90it/s]"
     ]
    },
    {
     "name": "stdout",
     "output_type": "stream",
     "text": [
      "[0] [17891]\n"
     ]
    },
    {
     "name": "stderr",
     "output_type": "stream",
     "text": [
      "14it [00:04,  1.70it/s]"
     ]
    },
    {
     "name": "stdout",
     "output_type": "stream",
     "text": [
      "[0] [651]\n"
     ]
    },
    {
     "name": "stderr",
     "output_type": "stream",
     "text": [
      "15it [00:05,  2.21it/s]"
     ]
    },
    {
     "name": "stdout",
     "output_type": "stream",
     "text": [
      "[0] [634]\n"
     ]
    },
    {
     "name": "stderr",
     "output_type": "stream",
     "text": [
      "16it [00:05,  2.73it/s]"
     ]
    },
    {
     "name": "stdout",
     "output_type": "stream",
     "text": [
      "[0] [196]\n",
      "null\n"
     ]
    },
    {
     "name": "stderr",
     "output_type": "stream",
     "text": [
      "18it [00:05,  3.54it/s]"
     ]
    },
    {
     "name": "stdout",
     "output_type": "stream",
     "text": [
      "null\n",
      "[0] [940]\n"
     ]
    },
    {
     "name": "stderr",
     "output_type": "stream",
     "text": [
      "20it [00:05,  4.48it/s]"
     ]
    },
    {
     "name": "stdout",
     "output_type": "stream",
     "text": [
      "null\n",
      "[0] [265]\n"
     ]
    },
    {
     "name": "stderr",
     "output_type": "stream",
     "text": [
      "22it [00:05,  5.80it/s]"
     ]
    },
    {
     "name": "stdout",
     "output_type": "stream",
     "text": [
      "[0] [1323]\n",
      "[0] [1132]\n"
     ]
    },
    {
     "name": "stderr",
     "output_type": "stream",
     "text": [
      "24it [00:05,  6.40it/s]"
     ]
    },
    {
     "name": "stdout",
     "output_type": "stream",
     "text": [
      "[0] [249]\n",
      "null\n"
     ]
    },
    {
     "name": "stderr",
     "output_type": "stream",
     "text": [
      "26it [00:05,  7.76it/s]"
     ]
    },
    {
     "name": "stdout",
     "output_type": "stream",
     "text": [
      "[0] [5275]\n",
      "[0] [773]\n"
     ]
    },
    {
     "name": "stderr",
     "output_type": "stream",
     "text": [
      "28it [00:06,  6.71it/s]"
     ]
    },
    {
     "name": "stdout",
     "output_type": "stream",
     "text": [
      "null\n",
      "[0] [144]\n"
     ]
    },
    {
     "name": "stderr",
     "output_type": "stream",
     "text": [
      "30it [00:06,  8.20it/s]"
     ]
    },
    {
     "name": "stdout",
     "output_type": "stream",
     "text": [
      "[0] [199]\n",
      "[0] [6587]\n"
     ]
    },
    {
     "name": "stderr",
     "output_type": "stream",
     "text": [
      "32it [00:06,  6.95it/s]"
     ]
    },
    {
     "name": "stdout",
     "output_type": "stream",
     "text": [
      "null\n",
      "[0] [90713]\n"
     ]
    },
    {
     "name": "stderr",
     "output_type": "stream",
     "text": [
      "34it [00:11,  1.23it/s]"
     ]
    },
    {
     "name": "stdout",
     "output_type": "stream",
     "text": [
      "[0] [401]\n"
     ]
    },
    {
     "name": "stderr",
     "output_type": "stream",
     "text": [
      "35it [00:11,  1.66it/s]"
     ]
    },
    {
     "name": "stdout",
     "output_type": "stream",
     "text": [
      "[0] [43851]\n"
     ]
    },
    {
     "name": "stderr",
     "output_type": "stream",
     "text": [
      "36it [00:13,  1.03s/it]"
     ]
    },
    {
     "name": "stdout",
     "output_type": "stream",
     "text": [
      "[0] [53667]\n"
     ]
    },
    {
     "name": "stderr",
     "output_type": "stream",
     "text": [
      "37it [00:16,  1.45s/it]"
     ]
    },
    {
     "name": "stdout",
     "output_type": "stream",
     "text": [
      "[0] [9333]\n"
     ]
    },
    {
     "name": "stderr",
     "output_type": "stream",
     "text": [
      "38it [00:16,  1.15s/it]"
     ]
    },
    {
     "name": "stdout",
     "output_type": "stream",
     "text": [
      "null\n",
      "[0] [96]\n"
     ]
    },
    {
     "name": "stderr",
     "output_type": "stream",
     "text": [
      "40it [00:16,  1.22it/s]"
     ]
    },
    {
     "name": "stdout",
     "output_type": "stream",
     "text": [
      "[0] [824]\n"
     ]
    },
    {
     "name": "stderr",
     "output_type": "stream",
     "text": [
      "41it [00:16,  1.60it/s]"
     ]
    },
    {
     "name": "stdout",
     "output_type": "stream",
     "text": [
      "[0] [521]\n",
      "[0] [64]\n"
     ]
    },
    {
     "name": "stderr",
     "output_type": "stream",
     "text": [
      "43it [00:17,  2.16it/s]"
     ]
    },
    {
     "name": "stdout",
     "output_type": "stream",
     "text": [
      "null\n",
      "[0] [563]\n"
     ]
    },
    {
     "name": "stderr",
     "output_type": "stream",
     "text": [
      "45it [00:17,  2.86it/s]"
     ]
    },
    {
     "name": "stdout",
     "output_type": "stream",
     "text": [
      "null\n"
     ]
    },
    {
     "name": "stderr",
     "output_type": "stream",
     "text": [
      "46it [00:17,  2.66it/s]\n"
     ]
    }
   ],
   "source": [
    "amaze0433 = {}\n",
    "paths = glob.glob(fixpath + '/*.csv')\n",
    "key =0\n",
    "for ind, file in tqdm(enumerate(paths)):\n",
    "    raw_data = pd.read_csv(file, skiprows = [0], header = [0]) \n",
    "    if (raw_data['NE'] == 0).all():\n",
    "        print(\"null\")\n",
    "        continue\n",
    "    else:\n",
    "        data = raw_data.copy(deep = True)\n",
    "        data = data.reset_index(drop = True)\n",
    "        start = []\n",
    "        end = []\n",
    "        df = pd.DataFrame()\n",
    "        last_index = data.shape[0]\n",
    "        i = 0\n",
    "        val = True\n",
    "        for x in range(last_index):\n",
    "            if x == last_index-1:\n",
    "                if val == False:\n",
    "                     end.append(x)\n",
    "            elif data['NE'][x] > 0:\n",
    "                if val:\n",
    "                    start.append(x)\n",
    "                    val = False\n",
    "            else:\n",
    "                if val == False:\n",
    "                    end.append(x-1)\n",
    "                    val=True\n",
    "\n",
    "        print(start, end)\n",
    "        for se in range(len(start)):            \n",
    "            df = data.iloc[start[se]:end[se]+1]\n",
    "            time = []\n",
    "            for t in range(len(df)):\n",
    "                time.append(t*100)\n",
    "            df['new_time'] = time\n",
    "            df = df.reset_index(drop = True)\n",
    "            amaze0433[key] = {}\n",
    "            amaze0433[key]['data'] = df\n",
    "            amaze0433[key]['path'] = file\n",
    "\n",
    "            if len(start)>1:\n",
    "                key +=1\n",
    "        key += 1"
   ]
  },
  {
   "cell_type": "code",
   "execution_count": 153,
   "metadata": {},
   "outputs": [
    {
     "data": {
      "text/plain": [
       "dict_keys([0, 1, 2, 3, 4, 5, 6, 7, 8, 9, 10, 11, 12, 13, 14, 15, 16, 17, 18, 19, 20, 21, 22, 23, 24, 25, 26, 27, 28, 29, 30, 31, 32, 33, 34, 35])"
      ]
     },
     "execution_count": 153,
     "metadata": {},
     "output_type": "execute_result"
    }
   ],
   "source": [
    "amaze0433.keys()"
   ]
  },
  {
   "cell_type": "code",
   "execution_count": 154,
   "metadata": {},
   "outputs": [
    {
     "name": "stderr",
     "output_type": "stream",
     "text": [
      "  3%|▎         | 1/36 [00:00<00:08,  4.09it/s]C:\\Users\\Poshita\\Anaconda3\\lib\\site-packages\\ipykernel_launcher.py:96: RuntimeWarning: invalid value encountered in double_scalars\n",
      "C:\\Users\\Poshita\\Anaconda3\\lib\\site-packages\\ipykernel_launcher.py:107: RuntimeWarning: divide by zero encountered in double_scalars\n",
      " 11%|█         | 4/36 [00:01<00:13,  2.35it/s]C:\\Users\\Poshita\\Anaconda3\\lib\\site-packages\\ipykernel_launcher.py:107: RuntimeWarning: invalid value encountered in double_scalars\n",
      "100%|██████████| 36/36 [00:29<00:00,  1.21it/s]\n"
     ]
    }
   ],
   "source": [
    "k0433={}\n",
    "for keys, item in tqdm(amaze0433.items()):\n",
    "    data = item['data']  \n",
    "    k0433[keys] = {}\n",
    "    k0433[keys]['path'] = amaze0433[keys]['path']\n",
    "    df = pd.DataFrame()\n",
    "\n",
    "    speed = []\n",
    "    time=[]\n",
    "    rpm = []\n",
    "    clutch=[]\n",
    "    ac= []\n",
    "    for ind, x in enumerate(data['new_time']):\n",
    "        if x % 1000 == 0 :\n",
    "            speed.append(data['VSP'].iloc[ind])\n",
    "            rpm.append(data['NE'].iloc[ind])\n",
    "            time.append(x)\n",
    "            clutch.append(data['CLSW1D'].iloc[ind])\n",
    "            ac.append(data['ACS'].iloc[ind])\n",
    "        else:\n",
    "            continue\n",
    "    df['speed'] = speed\n",
    "    df['time'] = time\n",
    "    df['rpm'] = rpm\n",
    "    df['clutch'] = clutch\n",
    "    df['ac'] = ac\n",
    "    df = df.dropna()\n",
    "    df['speed'] = df['speed']\n",
    "    df['time'] = df['time']/1000\n",
    "    speed_diff = df['speed'] - df['speed'].shift(1)\n",
    "    time_diff = df['time'] - df['time'].shift(1)\n",
    "    acc = (speed_diff/time_diff) * 0.0283                          # converting km/h-s to g\n",
    "    ha = 0\n",
    "    hb = 0\n",
    "    idle_time = 0\n",
    "    idle = 0\n",
    "    s = 0\n",
    "    c = 0\n",
    "    ac_idle = 0\n",
    "    ac_drive = 0\n",
    "    for x in acc:\n",
    "        if x > 0.4:\n",
    "            ha = ha+1\n",
    "        elif x < -0.6:\n",
    "            hb = hb+1\n",
    "    k0433[keys]['Hard Acceleration'] = ha\n",
    "    k0433[keys]['Hard Brake'] = hb\n",
    "    val = True\n",
    "    for x in range(len(df['speed'])-1):\n",
    "        if df['speed'][x] == 0 and df['rpm'][x] > 650:               # Idling\n",
    "            idle_time = idle_time+1\n",
    "            if val:\n",
    "                idle += 1\n",
    "                val = False\n",
    "            if df['clutch'][x] == 1:\n",
    "                c += 1\n",
    "            if df['ac'][x] == 1:\n",
    "                ac_idle += 1\n",
    "        elif df['speed'][x] != 0 and df['rpm'][x] > 650:\n",
    "            if df['ac'][x] == 1:\n",
    "                ac_drive += 1\n",
    "            val = True\n",
    "\n",
    "    k0433[keys]['Total Idle Time (in mins)'] = round(idle_time/60,0)\n",
    "    k0433[keys]['Idle Instances'] = idle\n",
    "    k0433[keys]['Clutch in Idling (in mins)'] = round(c/60,0)\n",
    "    k0433[keys]['Ac in Idle(in mins)'] = round(ac_idle/60,0)\n",
    "    k0433[keys]['Ac in Driving(in mins)'] = round(ac_drive/60,0)\n",
    "#     k[keys]['idling_times'] = idle\n",
    "    for x in df['speed']:\n",
    "        if x>90:\n",
    "            s = s+1\n",
    "    k0433[keys]['Overspeed (in mins)'] = round(s/60,0)\n",
    "    \n",
    "    val = True\n",
    "    cumsum=0\n",
    "    i=0\n",
    "    while(i<len(data['ENG_FUEL_USED'])-1):\n",
    "        if i==(len(data['ENG_FUEL_USED'])-2):\n",
    "            end = i+1\n",
    "            val=True\n",
    "        elif data['ENG_FUEL_USED'][i+1] - data['ENG_FUEL_USED'][i]>=0:\n",
    "            if val:\n",
    "                start = i\n",
    "                val = False\n",
    "        elif data['ENG_FUEL_USED'][i+1] - data['ENG_FUEL_USED'][i]<0:\n",
    "            end = i\n",
    "            val = True\n",
    "        if val:\n",
    "            cumsum += data['ENG_FUEL_USED'][end]- data['ENG_FUEL_USED'][start]\n",
    "        i += 1\n",
    "    \n",
    "    k0433[keys]['Fuel Used (in litres)'] = round(cumsum/1000,2)\n",
    "    k0433[keys]['Total Distance (in kms)'] = data['METER_ODO_DATA'].iloc[-1] - data['METER_ODO_DATA'].iloc[0]\n",
    "    k0433[keys]['Total Time (in mins)'] = round(data['Smp.time'].iloc[-1]/(1000*60),0)\n",
    "    k0433[keys]['Mileage (kmpl)'] = round(k0433[keys]['Total Distance (in kms)']/k0433[keys]['Fuel Used (in litres)'], 0)\n",
    "    if k0433[keys]['Total Time (in mins)'] > 360:\n",
    "        fd = 1\n",
    "    else:\n",
    "        fd = 0\n",
    "    if idle_time == 0:\n",
    "        ci = 0\n",
    "    else:\n",
    "        ci = c/idle_time\n",
    "    x1 = 7/40; x2 = 7/40; x3 = 5/40; x4 = 5/40; x5 = 6/40; x6 = 5/40; x7 = 5/40\n",
    "    score = (5 * (x1 * (ha/100) + x2 * (hb/100) + x3 * (idle_time/(60*k0433[keys]['Total Time (in mins)'])) + x4 * (idle/100) +\n",
    "                  x5 * (ci) + x7 * (fd)))  # rf in between 5*(0)-5*(1))\n",
    "    ds = 5 - (1.5 * (score))  # 1.5 weighing factor because 66.6%-100% is bad driving, since we have three categories\n",
    "\n",
    "    if (score < 0):\n",
    "        ds = 0\n",
    "    elif (score > 5):\n",
    "        ds = 5\n",
    "    k0433[keys]['Driver Score'] = round(ds,1)"
   ]
  },
  {
   "cell_type": "code",
   "execution_count": 155,
   "metadata": {},
   "outputs": [
    {
     "data": {
      "text/plain": [
       "{0: {'path': 'D:/honda data/Delhi - 2015 Nov/DL2CAT0433_Honda Amaze\\\\A20150921111637a.csv',\n",
       "  'Hard Acceleration': 0,\n",
       "  'Hard Brake': 0,\n",
       "  'Total Idle Time (in mins)': 1.0,\n",
       "  'Idle Instances': 1,\n",
       "  'Clutch in Idling (in mins)': 0.0,\n",
       "  'Ac in Idle(in mins)': 0.0,\n",
       "  'Ac in Driving(in mins)': 0.0,\n",
       "  'Overspeed (in mins)': 0.0,\n",
       "  'Fuel Used (in litres)': 0.01,\n",
       "  'Total Distance (in kms)': 0.0,\n",
       "  'Total Time (in mins)': 1.0,\n",
       "  'Mileage (kmpl)': 0.0,\n",
       "  'Driver Score': 4.4},\n",
       " 1: {'path': 'D:/honda data/Delhi - 2015 Nov/DL2CAT0433_Honda Amaze\\\\A20150921114936a.csv',\n",
       "  'Hard Acceleration': 0,\n",
       "  'Hard Brake': 0,\n",
       "  'Total Idle Time (in mins)': 0.0,\n",
       "  'Idle Instances': 2,\n",
       "  'Clutch in Idling (in mins)': 0.0,\n",
       "  'Ac in Idle(in mins)': 0.0,\n",
       "  'Ac in Driving(in mins)': 0.0,\n",
       "  'Overspeed (in mins)': 0.0,\n",
       "  'Fuel Used (in litres)': 0.0,\n",
       "  'Total Distance (in kms)': 0.0,\n",
       "  'Total Time (in mins)': 0.0,\n",
       "  'Mileage (kmpl)': nan,\n",
       "  'Driver Score': 5},\n",
       " 2: {'path': 'D:/honda data/Delhi - 2015 Nov/DL2CAT0433_Honda Amaze\\\\A20150921115543a.csv',\n",
       "  'Hard Acceleration': 0,\n",
       "  'Hard Brake': 0,\n",
       "  'Total Idle Time (in mins)': 0.0,\n",
       "  'Idle Instances': 4,\n",
       "  'Clutch in Idling (in mins)': 0.0,\n",
       "  'Ac in Idle(in mins)': 0.0,\n",
       "  'Ac in Driving(in mins)': 1.0,\n",
       "  'Overspeed (in mins)': 0.0,\n",
       "  'Fuel Used (in litres)': 0.03,\n",
       "  'Total Distance (in kms)': 0.0,\n",
       "  'Total Time (in mins)': 2.0,\n",
       "  'Mileage (kmpl)': 0.0,\n",
       "  'Driver Score': 3.6},\n",
       " 3: {'path': 'D:/honda data/Delhi - 2015 Nov/DL2CAT0433_Honda Amaze\\\\A20150921115921a.csv',\n",
       "  'Hard Acceleration': 0,\n",
       "  'Hard Brake': 0,\n",
       "  'Total Idle Time (in mins)': 3.0,\n",
       "  'Idle Instances': 24,\n",
       "  'Clutch in Idling (in mins)': 2.0,\n",
       "  'Ac in Idle(in mins)': 3.0,\n",
       "  'Ac in Driving(in mins)': 5.0,\n",
       "  'Overspeed (in mins)': 0.0,\n",
       "  'Fuel Used (in litres)': 0.16,\n",
       "  'Total Distance (in kms)': 1.0,\n",
       "  'Total Time (in mins)': 11.0,\n",
       "  'Mileage (kmpl)': 6.0,\n",
       "  'Driver Score': 3.9},\n",
       " 4: {'path': 'D:/honda data/Delhi - 2015 Nov/DL2CAT0433_Honda Amaze\\\\A20150921121055a.csv',\n",
       "  'Hard Acceleration': 0,\n",
       "  'Hard Brake': 0,\n",
       "  'Total Idle Time (in mins)': 0.0,\n",
       "  'Idle Instances': 0,\n",
       "  'Clutch in Idling (in mins)': 0.0,\n",
       "  'Ac in Idle(in mins)': 0.0,\n",
       "  'Ac in Driving(in mins)': 0.0,\n",
       "  'Overspeed (in mins)': 0.0,\n",
       "  'Fuel Used (in litres)': 0.0,\n",
       "  'Total Distance (in kms)': 0.0,\n",
       "  'Total Time (in mins)': 0.0,\n",
       "  'Mileage (kmpl)': nan,\n",
       "  'Driver Score': nan},\n",
       " 5: {'path': 'D:/honda data/Delhi - 2015 Nov/DL2CAT0433_Honda Amaze\\\\A20150921122026a.csv',\n",
       "  'Hard Acceleration': 0,\n",
       "  'Hard Brake': 0,\n",
       "  'Total Idle Time (in mins)': 2.0,\n",
       "  'Idle Instances': 19,\n",
       "  'Clutch in Idling (in mins)': 1.0,\n",
       "  'Ac in Idle(in mins)': 2.0,\n",
       "  'Ac in Driving(in mins)': 7.0,\n",
       "  'Overspeed (in mins)': 0.0,\n",
       "  'Fuel Used (in litres)': 0.2,\n",
       "  'Total Distance (in kms)': 2.0,\n",
       "  'Total Time (in mins)': 9.0,\n",
       "  'Mileage (kmpl)': 10.0,\n",
       "  'Driver Score': 3.9},\n",
       " 6: {'path': 'D:/honda data/Delhi - 2015 Nov/DL2CAT0433_Honda Amaze\\\\A20150921123107a.csv',\n",
       "  'Hard Acceleration': 0,\n",
       "  'Hard Brake': 0,\n",
       "  'Total Idle Time (in mins)': 3.0,\n",
       "  'Idle Instances': 8,\n",
       "  'Clutch in Idling (in mins)': 3.0,\n",
       "  'Ac in Idle(in mins)': 0.0,\n",
       "  'Ac in Driving(in mins)': 0.0,\n",
       "  'Overspeed (in mins)': 0.0,\n",
       "  'Fuel Used (in litres)': 0.03,\n",
       "  'Total Distance (in kms)': 0.0,\n",
       "  'Total Time (in mins)': 4.0,\n",
       "  'Mileage (kmpl)': 0.0,\n",
       "  'Driver Score': 3.1},\n",
       " 7: {'path': 'D:/honda data/Delhi - 2015 Nov/DL2CAT0433_Honda Amaze\\\\A20150921123524a.csv',\n",
       "  'Hard Acceleration': 0,\n",
       "  'Hard Brake': 0,\n",
       "  'Total Idle Time (in mins)': 2.0,\n",
       "  'Idle Instances': 1,\n",
       "  'Clutch in Idling (in mins)': 1.0,\n",
       "  'Ac in Idle(in mins)': 0.0,\n",
       "  'Ac in Driving(in mins)': 0.0,\n",
       "  'Overspeed (in mins)': 0.0,\n",
       "  'Fuel Used (in litres)': 0.02,\n",
       "  'Total Distance (in kms)': 0.0,\n",
       "  'Total Time (in mins)': 2.0,\n",
       "  'Mileage (kmpl)': 0.0,\n",
       "  'Driver Score': 3.3},\n",
       " 8: {'path': 'D:/honda data/Delhi - 2015 Nov/DL2CAT0433_Honda Amaze\\\\A20150921123916a.csv',\n",
       "  'Hard Acceleration': 0,\n",
       "  'Hard Brake': 0,\n",
       "  'Total Idle Time (in mins)': 0.0,\n",
       "  'Idle Instances': 1,\n",
       "  'Clutch in Idling (in mins)': 0.0,\n",
       "  'Ac in Idle(in mins)': 0.0,\n",
       "  'Ac in Driving(in mins)': 0.0,\n",
       "  'Overspeed (in mins)': 0.0,\n",
       "  'Fuel Used (in litres)': 0.0,\n",
       "  'Total Distance (in kms)': 0.0,\n",
       "  'Total Time (in mins)': 0.0,\n",
       "  'Mileage (kmpl)': nan,\n",
       "  'Driver Score': 5},\n",
       " 9: {'path': 'D:/honda data/Delhi - 2015 Nov/DL2CAT0433_Honda Amaze\\\\A20150922114247a.csv',\n",
       "  'Hard Acceleration': 0,\n",
       "  'Hard Brake': 0,\n",
       "  'Total Idle Time (in mins)': 2.0,\n",
       "  'Idle Instances': 1,\n",
       "  'Clutch in Idling (in mins)': 0.0,\n",
       "  'Ac in Idle(in mins)': 0.0,\n",
       "  'Ac in Driving(in mins)': 0.0,\n",
       "  'Overspeed (in mins)': 0.0,\n",
       "  'Fuel Used (in litres)': 0.01,\n",
       "  'Total Distance (in kms)': 0.0,\n",
       "  'Total Time (in mins)': 2.0,\n",
       "  'Mileage (kmpl)': 0.0,\n",
       "  'Driver Score': 4.2},\n",
       " 10: {'path': 'D:/honda data/Delhi - 2015 Nov/DL2CAT0433_Honda Amaze\\\\A20150922114744a.csv',\n",
       "  'Hard Acceleration': 0,\n",
       "  'Hard Brake': 0,\n",
       "  'Total Idle Time (in mins)': 1.0,\n",
       "  'Idle Instances': 1,\n",
       "  'Clutch in Idling (in mins)': 0.0,\n",
       "  'Ac in Idle(in mins)': 0.0,\n",
       "  'Ac in Driving(in mins)': 0.0,\n",
       "  'Overspeed (in mins)': 0.0,\n",
       "  'Fuel Used (in litres)': 0.01,\n",
       "  'Total Distance (in kms)': 0.0,\n",
       "  'Total Time (in mins)': 1.0,\n",
       "  'Mileage (kmpl)': 0.0,\n",
       "  'Driver Score': 4.1},\n",
       " 11: {'path': 'D:/honda data/Delhi - 2015 Nov/DL2CAT0433_Honda Amaze\\\\A20150922115150a.csv',\n",
       "  'Hard Acceleration': 0,\n",
       "  'Hard Brake': 0,\n",
       "  'Total Idle Time (in mins)': 3.0,\n",
       "  'Idle Instances': 27,\n",
       "  'Clutch in Idling (in mins)': 3.0,\n",
       "  'Ac in Idle(in mins)': 2.0,\n",
       "  'Ac in Driving(in mins)': 16.0,\n",
       "  'Overspeed (in mins)': 0.0,\n",
       "  'Fuel Used (in litres)': 0.56,\n",
       "  'Total Distance (in kms)': 9.0,\n",
       "  'Total Time (in mins)': 28.0,\n",
       "  'Mileage (kmpl)': 16.0,\n",
       "  'Driver Score': 3.6},\n",
       " 12: {'path': 'D:/honda data/Delhi - 2015 Nov/DL2CAT0433_Honda Amaze\\\\A20150922165059a.csv',\n",
       "  'Hard Acceleration': 0,\n",
       "  'Hard Brake': 0,\n",
       "  'Total Idle Time (in mins)': 7.0,\n",
       "  'Idle Instances': 29,\n",
       "  'Clutch in Idling (in mins)': 5.0,\n",
       "  'Ac in Idle(in mins)': 6.0,\n",
       "  'Ac in Driving(in mins)': 17.0,\n",
       "  'Overspeed (in mins)': 0.0,\n",
       "  'Fuel Used (in litres)': 0.53,\n",
       "  'Total Distance (in kms)': 6.0,\n",
       "  'Total Time (in mins)': 30.0,\n",
       "  'Mileage (kmpl)': 11.0,\n",
       "  'Driver Score': 3.7},\n",
       " 13: {'path': 'D:/honda data/Delhi - 2015 Nov/DL2CAT0433_Honda Amaze\\\\A20150926092642a.csv',\n",
       "  'Hard Acceleration': 0,\n",
       "  'Hard Brake': 0,\n",
       "  'Total Idle Time (in mins)': 1.0,\n",
       "  'Idle Instances': 5,\n",
       "  'Clutch in Idling (in mins)': 1.0,\n",
       "  'Ac in Idle(in mins)': 0.0,\n",
       "  'Ac in Driving(in mins)': 0.0,\n",
       "  'Overspeed (in mins)': 0.0,\n",
       "  'Fuel Used (in litres)': 0.02,\n",
       "  'Total Distance (in kms)': 0.0,\n",
       "  'Total Time (in mins)': 1.0,\n",
       "  'Mileage (kmpl)': 0.0,\n",
       "  'Driver Score': 3.2},\n",
       " 14: {'path': 'D:/honda data/Delhi - 2015 Nov/DL2CAT0433_Honda Amaze\\\\A20150926094932a.csv',\n",
       "  'Hard Acceleration': 0,\n",
       "  'Hard Brake': 0,\n",
       "  'Total Idle Time (in mins)': 1.0,\n",
       "  'Idle Instances': 6,\n",
       "  'Clutch in Idling (in mins)': 1.0,\n",
       "  'Ac in Idle(in mins)': 0.0,\n",
       "  'Ac in Driving(in mins)': 0.0,\n",
       "  'Overspeed (in mins)': 0.0,\n",
       "  'Fuel Used (in litres)': 0.01,\n",
       "  'Total Distance (in kms)': 0.0,\n",
       "  'Total Time (in mins)': 1.0,\n",
       "  'Mileage (kmpl)': 0.0,\n",
       "  'Driver Score': 3.2},\n",
       " 15: {'path': 'D:/honda data/Delhi - 2015 Nov/DL2CAT0433_Honda Amaze\\\\A20150926100001a.csv',\n",
       "  'Hard Acceleration': 0,\n",
       "  'Hard Brake': 0,\n",
       "  'Total Idle Time (in mins)': 0.0,\n",
       "  'Idle Instances': 1,\n",
       "  'Clutch in Idling (in mins)': 0.0,\n",
       "  'Ac in Idle(in mins)': 0.0,\n",
       "  'Ac in Driving(in mins)': 0.0,\n",
       "  'Overspeed (in mins)': 0.0,\n",
       "  'Fuel Used (in litres)': 0.0,\n",
       "  'Total Distance (in kms)': 0.0,\n",
       "  'Total Time (in mins)': 0.0,\n",
       "  'Mileage (kmpl)': nan,\n",
       "  'Driver Score': 5},\n",
       " 16: {'path': 'D:/honda data/Delhi - 2015 Nov/DL2CAT0433_Honda Amaze\\\\A20150926113806a.csv',\n",
       "  'Hard Acceleration': 0,\n",
       "  'Hard Brake': 0,\n",
       "  'Total Idle Time (in mins)': 1.0,\n",
       "  'Idle Instances': 12,\n",
       "  'Clutch in Idling (in mins)': 1.0,\n",
       "  'Ac in Idle(in mins)': 0.0,\n",
       "  'Ac in Driving(in mins)': 0.0,\n",
       "  'Overspeed (in mins)': 0.0,\n",
       "  'Fuel Used (in litres)': 0.02,\n",
       "  'Total Distance (in kms)': 0.0,\n",
       "  'Total Time (in mins)': 2.0,\n",
       "  'Mileage (kmpl)': 0.0,\n",
       "  'Driver Score': 3.3},\n",
       " 17: {'path': 'D:/honda data/Delhi - 2015 Nov/DL2CAT0433_Honda Amaze\\\\A20150926114042a.csv',\n",
       "  'Hard Acceleration': 0,\n",
       "  'Hard Brake': 0,\n",
       "  'Total Idle Time (in mins)': 0.0,\n",
       "  'Idle Instances': 1,\n",
       "  'Clutch in Idling (in mins)': 0.0,\n",
       "  'Ac in Idle(in mins)': 0.0,\n",
       "  'Ac in Driving(in mins)': 0.0,\n",
       "  'Overspeed (in mins)': 0.0,\n",
       "  'Fuel Used (in litres)': 0.0,\n",
       "  'Total Distance (in kms)': 0.0,\n",
       "  'Total Time (in mins)': 0.0,\n",
       "  'Mileage (kmpl)': nan,\n",
       "  'Driver Score': 5},\n",
       " 18: {'path': 'D:/honda data/Delhi - 2015 Nov/DL2CAT0433_Honda Amaze\\\\A20150926142432a.csv',\n",
       "  'Hard Acceleration': 0,\n",
       "  'Hard Brake': 0,\n",
       "  'Total Idle Time (in mins)': 0.0,\n",
       "  'Idle Instances': 3,\n",
       "  'Clutch in Idling (in mins)': 0.0,\n",
       "  'Ac in Idle(in mins)': 0.0,\n",
       "  'Ac in Driving(in mins)': 0.0,\n",
       "  'Overspeed (in mins)': 0.0,\n",
       "  'Fuel Used (in litres)': 0.05,\n",
       "  'Total Distance (in kms)': 0.0,\n",
       "  'Total Time (in mins)': 2.0,\n",
       "  'Mileage (kmpl)': 0.0,\n",
       "  'Driver Score': 3.8},\n",
       " 19: {'path': 'D:/honda data/Delhi - 2015 Nov/DL2CAT0433_Honda Amaze\\\\A20150926145434a.csv',\n",
       "  'Hard Acceleration': 0,\n",
       "  'Hard Brake': 0,\n",
       "  'Total Idle Time (in mins)': 0.0,\n",
       "  'Idle Instances': 1,\n",
       "  'Clutch in Idling (in mins)': 0.0,\n",
       "  'Ac in Idle(in mins)': 0.0,\n",
       "  'Ac in Driving(in mins)': 0.0,\n",
       "  'Overspeed (in mins)': 0.0,\n",
       "  'Fuel Used (in litres)': 0.03,\n",
       "  'Total Distance (in kms)': 1.0,\n",
       "  'Total Time (in mins)': 2.0,\n",
       "  'Mileage (kmpl)': 33.0,\n",
       "  'Driver Score': 3.8},\n",
       " 20: {'path': 'D:/honda data/Delhi - 2015 Nov/DL2CAT0433_Honda Amaze\\\\A20150926150051a.csv',\n",
       "  'Hard Acceleration': 0,\n",
       "  'Hard Brake': 0,\n",
       "  'Total Idle Time (in mins)': 0.0,\n",
       "  'Idle Instances': 1,\n",
       "  'Clutch in Idling (in mins)': 0.0,\n",
       "  'Ac in Idle(in mins)': 0.0,\n",
       "  'Ac in Driving(in mins)': 0.0,\n",
       "  'Overspeed (in mins)': 0.0,\n",
       "  'Fuel Used (in litres)': 0.01,\n",
       "  'Total Distance (in kms)': 0.0,\n",
       "  'Total Time (in mins)': 0.0,\n",
       "  'Mileage (kmpl)': 0.0,\n",
       "  'Driver Score': 5},\n",
       " 21: {'path': 'D:/honda data/Delhi - 2015 Nov/DL2CAT0433_Honda Amaze\\\\A20150926150440a.csv',\n",
       "  'Hard Acceleration': 0,\n",
       "  'Hard Brake': 0,\n",
       "  'Total Idle Time (in mins)': 4.0,\n",
       "  'Idle Instances': 13,\n",
       "  'Clutch in Idling (in mins)': 3.0,\n",
       "  'Ac in Idle(in mins)': 1.0,\n",
       "  'Ac in Driving(in mins)': 5.0,\n",
       "  'Overspeed (in mins)': 0.0,\n",
       "  'Fuel Used (in litres)': 0.16,\n",
       "  'Total Distance (in kms)': 1.0,\n",
       "  'Total Time (in mins)': 9.0,\n",
       "  'Mileage (kmpl)': 6.0,\n",
       "  'Driver Score': 3.5},\n",
       " 22: {'path': 'D:/honda data/Delhi - 2015 Nov/DL2CAT0433_Honda Amaze\\\\A20150927060441a.csv',\n",
       "  'Hard Acceleration': 0,\n",
       "  'Hard Brake': 0,\n",
       "  'Total Idle Time (in mins)': 1.0,\n",
       "  'Idle Instances': 8,\n",
       "  'Clutch in Idling (in mins)': 1.0,\n",
       "  'Ac in Idle(in mins)': 0.0,\n",
       "  'Ac in Driving(in mins)': 0.0,\n",
       "  'Overspeed (in mins)': 0.0,\n",
       "  'Fuel Used (in litres)': 0.02,\n",
       "  'Total Distance (in kms)': 0.0,\n",
       "  'Total Time (in mins)': 1.0,\n",
       "  'Mileage (kmpl)': 0.0,\n",
       "  'Driver Score': 3.2},\n",
       " 23: {'path': 'D:/honda data/Delhi - 2015 Nov/DL2CAT0433_Honda Amaze\\\\A20150927061441a.csv',\n",
       "  'Hard Acceleration': 0,\n",
       "  'Hard Brake': 0,\n",
       "  'Total Idle Time (in mins)': 0.0,\n",
       "  'Idle Instances': 2,\n",
       "  'Clutch in Idling (in mins)': 0.0,\n",
       "  'Ac in Idle(in mins)': 0.0,\n",
       "  'Ac in Driving(in mins)': 0.0,\n",
       "  'Overspeed (in mins)': 0.0,\n",
       "  'Fuel Used (in litres)': 0.0,\n",
       "  'Total Distance (in kms)': 0.0,\n",
       "  'Total Time (in mins)': 0.0,\n",
       "  'Mileage (kmpl)': nan,\n",
       "  'Driver Score': 5},\n",
       " 24: {'path': 'D:/honda data/Delhi - 2015 Nov/DL2CAT0433_Honda Amaze\\\\A20150927061518a.csv',\n",
       "  'Hard Acceleration': 0,\n",
       "  'Hard Brake': 0,\n",
       "  'Total Idle Time (in mins)': 0.0,\n",
       "  'Idle Instances': 3,\n",
       "  'Clutch in Idling (in mins)': 0.0,\n",
       "  'Ac in Idle(in mins)': 0.0,\n",
       "  'Ac in Driving(in mins)': 0.0,\n",
       "  'Overspeed (in mins)': 0.0,\n",
       "  'Fuel Used (in litres)': 0.0,\n",
       "  'Total Distance (in kms)': 0.0,\n",
       "  'Total Time (in mins)': 0.0,\n",
       "  'Mileage (kmpl)': nan,\n",
       "  'Driver Score': 5},\n",
       " 25: {'path': 'D:/honda data/Delhi - 2015 Nov/DL2CAT0433_Honda Amaze\\\\A20150927061619a.csv',\n",
       "  'Hard Acceleration': 0,\n",
       "  'Hard Brake': 0,\n",
       "  'Total Idle Time (in mins)': 0.0,\n",
       "  'Idle Instances': 4,\n",
       "  'Clutch in Idling (in mins)': 0.0,\n",
       "  'Ac in Idle(in mins)': 0.0,\n",
       "  'Ac in Driving(in mins)': 0.0,\n",
       "  'Overspeed (in mins)': 0.0,\n",
       "  'Fuel Used (in litres)': 0.24,\n",
       "  'Total Distance (in kms)': 5.0,\n",
       "  'Total Time (in mins)': 11.0,\n",
       "  'Mileage (kmpl)': 21.0,\n",
       "  'Driver Score': 3.8},\n",
       " 26: {'path': 'D:/honda data/Delhi - 2015 Nov/DL2CAT0433_Honda Amaze\\\\A20150927062858a.csv',\n",
       "  'Hard Acceleration': 0,\n",
       "  'Hard Brake': 0,\n",
       "  'Total Idle Time (in mins)': 13.0,\n",
       "  'Idle Instances': 39,\n",
       "  'Clutch in Idling (in mins)': 2.0,\n",
       "  'Ac in Idle(in mins)': 2.0,\n",
       "  'Ac in Driving(in mins)': 13.0,\n",
       "  'Overspeed (in mins)': 68.0,\n",
       "  'Fuel Used (in litres)': 7.77,\n",
       "  'Total Distance (in kms)': 169.0,\n",
       "  'Total Time (in mins)': 151.0,\n",
       "  'Mileage (kmpl)': 22.0,\n",
       "  'Driver Score': 4.3},\n",
       " 27: {'path': 'D:/honda data/Delhi - 2015 Nov/DL2CAT0433_Honda Amaze\\\\A20150927090051a.csv',\n",
       "  'Hard Acceleration': 0,\n",
       "  'Hard Brake': 0,\n",
       "  'Total Idle Time (in mins)': 0.0,\n",
       "  'Idle Instances': 4,\n",
       "  'Clutch in Idling (in mins)': 0.0,\n",
       "  'Ac in Idle(in mins)': 0.0,\n",
       "  'Ac in Driving(in mins)': 0.0,\n",
       "  'Overspeed (in mins)': 0.0,\n",
       "  'Fuel Used (in litres)': 0.01,\n",
       "  'Total Distance (in kms)': 0.0,\n",
       "  'Total Time (in mins)': 1.0,\n",
       "  'Mileage (kmpl)': 0.0,\n",
       "  'Driver Score': 3.6},\n",
       " 28: {'path': 'D:/honda data/Delhi - 2015 Nov/DL2CAT0433_Honda Amaze\\\\A20150927153958a.csv',\n",
       "  'Hard Acceleration': 0,\n",
       "  'Hard Brake': 0,\n",
       "  'Total Idle Time (in mins)': 2.0,\n",
       "  'Idle Instances': 10,\n",
       "  'Clutch in Idling (in mins)': 1.0,\n",
       "  'Ac in Idle(in mins)': 1.0,\n",
       "  'Ac in Driving(in mins)': 66.0,\n",
       "  'Overspeed (in mins)': 43.0,\n",
       "  'Fuel Used (in litres)': 4.47,\n",
       "  'Total Distance (in kms)': 88.0,\n",
       "  'Total Time (in mins)': 73.0,\n",
       "  'Mileage (kmpl)': 20.0,\n",
       "  'Driver Score': 4.2},\n",
       " 29: {'path': 'D:/honda data/Delhi - 2015 Nov/DL2CAT0433_Honda Amaze\\\\A20150927165306a.csv',\n",
       "  'Hard Acceleration': 0,\n",
       "  'Hard Brake': 0,\n",
       "  'Total Idle Time (in mins)': 6.0,\n",
       "  'Idle Instances': 34,\n",
       "  'Clutch in Idling (in mins)': 3.0,\n",
       "  'Ac in Idle(in mins)': 0.0,\n",
       "  'Ac in Driving(in mins)': 24.0,\n",
       "  'Overspeed (in mins)': 22.0,\n",
       "  'Fuel Used (in litres)': 3.59,\n",
       "  'Total Distance (in kms)': 78.0,\n",
       "  'Total Time (in mins)': 89.0,\n",
       "  'Mileage (kmpl)': 22.0,\n",
       "  'Driver Score': 4.1},\n",
       " 30: {'path': 'D:/honda data/Delhi - 2015 Nov/DL2CAT0433_Honda Amaze\\\\A20150927182309a.csv',\n",
       "  'Hard Acceleration': 0,\n",
       "  'Hard Brake': 0,\n",
       "  'Total Idle Time (in mins)': 3.0,\n",
       "  'Idle Instances': 9,\n",
       "  'Clutch in Idling (in mins)': 1.0,\n",
       "  'Ac in Idle(in mins)': 0.0,\n",
       "  'Ac in Driving(in mins)': 6.0,\n",
       "  'Overspeed (in mins)': 0.0,\n",
       "  'Fuel Used (in litres)': 0.34,\n",
       "  'Total Distance (in kms)': 5.0,\n",
       "  'Total Time (in mins)': 16.0,\n",
       "  'Mileage (kmpl)': 15.0,\n",
       "  'Driver Score': 4.2},\n",
       " 31: {'path': 'D:/honda data/Delhi - 2015 Nov/DL2CAT0433_Honda Amaze\\\\A20150927183958a.csv',\n",
       "  'Hard Acceleration': 0,\n",
       "  'Hard Brake': 0,\n",
       "  'Total Idle Time (in mins)': 0.0,\n",
       "  'Idle Instances': 1,\n",
       "  'Clutch in Idling (in mins)': 0.0,\n",
       "  'Ac in Idle(in mins)': 0.0,\n",
       "  'Ac in Driving(in mins)': 0.0,\n",
       "  'Overspeed (in mins)': 0.0,\n",
       "  'Fuel Used (in litres)': 0.0,\n",
       "  'Total Distance (in kms)': 0.0,\n",
       "  'Total Time (in mins)': 0.0,\n",
       "  'Mileage (kmpl)': nan,\n",
       "  'Driver Score': 5},\n",
       " 32: {'path': 'D:/honda data/Delhi - 2015 Nov/DL2CAT0433_Honda Amaze\\\\A20150927184736a.csv',\n",
       "  'Hard Acceleration': 0,\n",
       "  'Hard Brake': 0,\n",
       "  'Total Idle Time (in mins)': 1.0,\n",
       "  'Idle Instances': 8,\n",
       "  'Clutch in Idling (in mins)': 1.0,\n",
       "  'Ac in Idle(in mins)': 0.0,\n",
       "  'Ac in Driving(in mins)': 0.0,\n",
       "  'Overspeed (in mins)': 0.0,\n",
       "  'Fuel Used (in litres)': 0.01,\n",
       "  'Total Distance (in kms)': 0.0,\n",
       "  'Total Time (in mins)': 1.0,\n",
       "  'Mileage (kmpl)': 0.0,\n",
       "  'Driver Score': 2.9},\n",
       " 33: {'path': 'D:/honda data/Delhi - 2015 Nov/DL2CAT0433_Honda Amaze\\\\A20150927184947a.csv',\n",
       "  'Hard Acceleration': 0,\n",
       "  'Hard Brake': 0,\n",
       "  'Total Idle Time (in mins)': 1.0,\n",
       "  'Idle Instances': 1,\n",
       "  'Clutch in Idling (in mins)': 1.0,\n",
       "  'Ac in Idle(in mins)': 0.0,\n",
       "  'Ac in Driving(in mins)': 0.0,\n",
       "  'Overspeed (in mins)': 0.0,\n",
       "  'Fuel Used (in litres)': 0.01,\n",
       "  'Total Distance (in kms)': 0.0,\n",
       "  'Total Time (in mins)': 1.0,\n",
       "  'Mileage (kmpl)': 0.0,\n",
       "  'Driver Score': 3.1},\n",
       " 34: {'path': 'D:/honda data/Delhi - 2015 Nov/DL2CAT0433_Honda Amaze\\\\A20150927185215a.csv',\n",
       "  'Hard Acceleration': 0,\n",
       "  'Hard Brake': 0,\n",
       "  'Total Idle Time (in mins)': 0.0,\n",
       "  'Idle Instances': 1,\n",
       "  'Clutch in Idling (in mins)': 0.0,\n",
       "  'Ac in Idle(in mins)': 0.0,\n",
       "  'Ac in Driving(in mins)': 0.0,\n",
       "  'Overspeed (in mins)': 0.0,\n",
       "  'Fuel Used (in litres)': 0.0,\n",
       "  'Total Distance (in kms)': 0.0,\n",
       "  'Total Time (in mins)': 0.0,\n",
       "  'Mileage (kmpl)': nan,\n",
       "  'Driver Score': 5},\n",
       " 35: {'path': 'D:/honda data/Delhi - 2015 Nov/DL2CAT0433_Honda Amaze\\\\A20150928112200a.csv',\n",
       "  'Hard Acceleration': 0,\n",
       "  'Hard Brake': 0,\n",
       "  'Total Idle Time (in mins)': 1.0,\n",
       "  'Idle Instances': 1,\n",
       "  'Clutch in Idling (in mins)': 0.0,\n",
       "  'Ac in Idle(in mins)': 0.0,\n",
       "  'Ac in Driving(in mins)': 0.0,\n",
       "  'Overspeed (in mins)': 0.0,\n",
       "  'Fuel Used (in litres)': 0.01,\n",
       "  'Total Distance (in kms)': 0.0,\n",
       "  'Total Time (in mins)': 1.0,\n",
       "  'Mileage (kmpl)': 0.0,\n",
       "  'Driver Score': 4.1}}"
      ]
     },
     "execution_count": 155,
     "metadata": {},
     "output_type": "execute_result"
    }
   ],
   "source": [
    "k0433"
   ]
  },
  {
   "cell_type": "code",
   "execution_count": 158,
   "metadata": {},
   "outputs": [
    {
     "name": "stderr",
     "output_type": "stream",
     "text": [
      "100%|██████████| 36/36 [00:00<00:00, 3281.43it/s]\n"
     ]
    }
   ],
   "source": [
    "keys = []\n",
    "for key, items in tqdm(k0433.items()):\n",
    "    if items['Total Distance (in kms)'] < 2:\n",
    "        keys.append(key)\n",
    "        "
   ]
  },
  {
   "cell_type": "code",
   "execution_count": 159,
   "metadata": {},
   "outputs": [],
   "source": [
    "for key in keys:\n",
    "    del k0433[key]"
   ]
  },
  {
   "cell_type": "code",
   "execution_count": 160,
   "metadata": {},
   "outputs": [],
   "source": [
    "kdf0433 = pd.DataFrame(k0433)"
   ]
  },
  {
   "cell_type": "code",
   "execution_count": 161,
   "metadata": {},
   "outputs": [],
   "source": [
    "kdf0433 = kdf0433.drop('path')\n",
    "kdf0433 = kdf0433.transpose()"
   ]
  },
  {
   "cell_type": "code",
   "execution_count": 162,
   "metadata": {},
   "outputs": [
    {
     "data": {
      "text/html": [
       "<div>\n",
       "<style scoped>\n",
       "    .dataframe tbody tr th:only-of-type {\n",
       "        vertical-align: middle;\n",
       "    }\n",
       "\n",
       "    .dataframe tbody tr th {\n",
       "        vertical-align: top;\n",
       "    }\n",
       "\n",
       "    .dataframe thead th {\n",
       "        text-align: right;\n",
       "    }\n",
       "</style>\n",
       "<table border=\"1\" class=\"dataframe\">\n",
       "  <thead>\n",
       "    <tr style=\"text-align: right;\">\n",
       "      <th></th>\n",
       "      <th>Hard Acceleration</th>\n",
       "      <th>Hard Brake</th>\n",
       "      <th>Total Idle Time (in mins)</th>\n",
       "      <th>Idle Instances</th>\n",
       "      <th>Clutch in Idling (in mins)</th>\n",
       "      <th>Ac in Idle(in mins)</th>\n",
       "      <th>Ac in Driving(in mins)</th>\n",
       "      <th>Overspeed (in mins)</th>\n",
       "      <th>Fuel Used (in litres)</th>\n",
       "      <th>Total Distance (in kms)</th>\n",
       "      <th>Total Time (in mins)</th>\n",
       "      <th>Mileage (kmpl)</th>\n",
       "      <th>Driver Score</th>\n",
       "    </tr>\n",
       "  </thead>\n",
       "  <tbody>\n",
       "    <tr>\n",
       "      <td>5</td>\n",
       "      <td>0</td>\n",
       "      <td>0</td>\n",
       "      <td>2.0</td>\n",
       "      <td>19</td>\n",
       "      <td>1.0</td>\n",
       "      <td>2.0</td>\n",
       "      <td>7.0</td>\n",
       "      <td>0.0</td>\n",
       "      <td>0.20</td>\n",
       "      <td>2.0</td>\n",
       "      <td>9.0</td>\n",
       "      <td>10.0</td>\n",
       "      <td>3.9</td>\n",
       "    </tr>\n",
       "    <tr>\n",
       "      <td>11</td>\n",
       "      <td>0</td>\n",
       "      <td>0</td>\n",
       "      <td>3.0</td>\n",
       "      <td>27</td>\n",
       "      <td>3.0</td>\n",
       "      <td>2.0</td>\n",
       "      <td>16.0</td>\n",
       "      <td>0.0</td>\n",
       "      <td>0.56</td>\n",
       "      <td>9.0</td>\n",
       "      <td>28.0</td>\n",
       "      <td>16.0</td>\n",
       "      <td>3.6</td>\n",
       "    </tr>\n",
       "    <tr>\n",
       "      <td>12</td>\n",
       "      <td>0</td>\n",
       "      <td>0</td>\n",
       "      <td>7.0</td>\n",
       "      <td>29</td>\n",
       "      <td>5.0</td>\n",
       "      <td>6.0</td>\n",
       "      <td>17.0</td>\n",
       "      <td>0.0</td>\n",
       "      <td>0.53</td>\n",
       "      <td>6.0</td>\n",
       "      <td>30.0</td>\n",
       "      <td>11.0</td>\n",
       "      <td>3.7</td>\n",
       "    </tr>\n",
       "    <tr>\n",
       "      <td>25</td>\n",
       "      <td>0</td>\n",
       "      <td>0</td>\n",
       "      <td>0.0</td>\n",
       "      <td>4</td>\n",
       "      <td>0.0</td>\n",
       "      <td>0.0</td>\n",
       "      <td>0.0</td>\n",
       "      <td>0.0</td>\n",
       "      <td>0.24</td>\n",
       "      <td>5.0</td>\n",
       "      <td>11.0</td>\n",
       "      <td>21.0</td>\n",
       "      <td>3.8</td>\n",
       "    </tr>\n",
       "    <tr>\n",
       "      <td>26</td>\n",
       "      <td>0</td>\n",
       "      <td>0</td>\n",
       "      <td>13.0</td>\n",
       "      <td>39</td>\n",
       "      <td>2.0</td>\n",
       "      <td>2.0</td>\n",
       "      <td>13.0</td>\n",
       "      <td>68.0</td>\n",
       "      <td>7.77</td>\n",
       "      <td>169.0</td>\n",
       "      <td>151.0</td>\n",
       "      <td>22.0</td>\n",
       "      <td>4.3</td>\n",
       "    </tr>\n",
       "    <tr>\n",
       "      <td>28</td>\n",
       "      <td>0</td>\n",
       "      <td>0</td>\n",
       "      <td>2.0</td>\n",
       "      <td>10</td>\n",
       "      <td>1.0</td>\n",
       "      <td>1.0</td>\n",
       "      <td>66.0</td>\n",
       "      <td>43.0</td>\n",
       "      <td>4.47</td>\n",
       "      <td>88.0</td>\n",
       "      <td>73.0</td>\n",
       "      <td>20.0</td>\n",
       "      <td>4.2</td>\n",
       "    </tr>\n",
       "    <tr>\n",
       "      <td>29</td>\n",
       "      <td>0</td>\n",
       "      <td>0</td>\n",
       "      <td>6.0</td>\n",
       "      <td>34</td>\n",
       "      <td>3.0</td>\n",
       "      <td>0.0</td>\n",
       "      <td>24.0</td>\n",
       "      <td>22.0</td>\n",
       "      <td>3.59</td>\n",
       "      <td>78.0</td>\n",
       "      <td>89.0</td>\n",
       "      <td>22.0</td>\n",
       "      <td>4.1</td>\n",
       "    </tr>\n",
       "    <tr>\n",
       "      <td>30</td>\n",
       "      <td>0</td>\n",
       "      <td>0</td>\n",
       "      <td>3.0</td>\n",
       "      <td>9</td>\n",
       "      <td>1.0</td>\n",
       "      <td>0.0</td>\n",
       "      <td>6.0</td>\n",
       "      <td>0.0</td>\n",
       "      <td>0.34</td>\n",
       "      <td>5.0</td>\n",
       "      <td>16.0</td>\n",
       "      <td>15.0</td>\n",
       "      <td>4.2</td>\n",
       "    </tr>\n",
       "  </tbody>\n",
       "</table>\n",
       "</div>"
      ],
      "text/plain": [
       "    Hard Acceleration  Hard Brake  Total Idle Time (in mins)  Idle Instances  \\\n",
       "5                   0           0                        2.0              19   \n",
       "11                  0           0                        3.0              27   \n",
       "12                  0           0                        7.0              29   \n",
       "25                  0           0                        0.0               4   \n",
       "26                  0           0                       13.0              39   \n",
       "28                  0           0                        2.0              10   \n",
       "29                  0           0                        6.0              34   \n",
       "30                  0           0                        3.0               9   \n",
       "\n",
       "    Clutch in Idling (in mins)  Ac in Idle(in mins)  Ac in Driving(in mins)  \\\n",
       "5                          1.0                  2.0                     7.0   \n",
       "11                         3.0                  2.0                    16.0   \n",
       "12                         5.0                  6.0                    17.0   \n",
       "25                         0.0                  0.0                     0.0   \n",
       "26                         2.0                  2.0                    13.0   \n",
       "28                         1.0                  1.0                    66.0   \n",
       "29                         3.0                  0.0                    24.0   \n",
       "30                         1.0                  0.0                     6.0   \n",
       "\n",
       "    Overspeed (in mins)  Fuel Used (in litres)  Total Distance (in kms)  \\\n",
       "5                   0.0                   0.20                      2.0   \n",
       "11                  0.0                   0.56                      9.0   \n",
       "12                  0.0                   0.53                      6.0   \n",
       "25                  0.0                   0.24                      5.0   \n",
       "26                 68.0                   7.77                    169.0   \n",
       "28                 43.0                   4.47                     88.0   \n",
       "29                 22.0                   3.59                     78.0   \n",
       "30                  0.0                   0.34                      5.0   \n",
       "\n",
       "    Total Time (in mins)  Mileage (kmpl)  Driver Score  \n",
       "5                    9.0            10.0           3.9  \n",
       "11                  28.0            16.0           3.6  \n",
       "12                  30.0            11.0           3.7  \n",
       "25                  11.0            21.0           3.8  \n",
       "26                 151.0            22.0           4.3  \n",
       "28                  73.0            20.0           4.2  \n",
       "29                  89.0            22.0           4.1  \n",
       "30                  16.0            15.0           4.2  "
      ]
     },
     "execution_count": 162,
     "metadata": {},
     "output_type": "execute_result"
    }
   ],
   "source": [
    "kdf0433 = kdf0433.apply(pd.to_numeric)\n",
    "kdf0433"
   ]
  },
  {
   "cell_type": "code",
   "execution_count": 163,
   "metadata": {},
   "outputs": [
    {
     "data": {
      "text/html": [
       "<div>\n",
       "<style scoped>\n",
       "    .dataframe tbody tr th:only-of-type {\n",
       "        vertical-align: middle;\n",
       "    }\n",
       "\n",
       "    .dataframe tbody tr th {\n",
       "        vertical-align: top;\n",
       "    }\n",
       "\n",
       "    .dataframe thead th {\n",
       "        text-align: right;\n",
       "    }\n",
       "</style>\n",
       "<table border=\"1\" class=\"dataframe\">\n",
       "  <thead>\n",
       "    <tr style=\"text-align: right;\">\n",
       "      <th></th>\n",
       "      <th>Hard Acceleration</th>\n",
       "      <th>Hard Brake</th>\n",
       "      <th>Total Idle Time (in mins)</th>\n",
       "      <th>Idle Instances</th>\n",
       "      <th>Clutch in Idling (in mins)</th>\n",
       "      <th>Ac in Idle(in mins)</th>\n",
       "      <th>Ac in Driving(in mins)</th>\n",
       "      <th>Overspeed (in mins)</th>\n",
       "      <th>Fuel Used (in litres)</th>\n",
       "      <th>Total Distance (in kms)</th>\n",
       "      <th>Total Time (in mins)</th>\n",
       "      <th>Mileage (kmpl)</th>\n",
       "      <th>Driver Score</th>\n",
       "    </tr>\n",
       "  </thead>\n",
       "  <tbody>\n",
       "    <tr>\n",
       "      <td>Hard Acceleration</td>\n",
       "      <td>NaN</td>\n",
       "      <td>NaN</td>\n",
       "      <td>NaN</td>\n",
       "      <td>NaN</td>\n",
       "      <td>NaN</td>\n",
       "      <td>NaN</td>\n",
       "      <td>NaN</td>\n",
       "      <td>NaN</td>\n",
       "      <td>NaN</td>\n",
       "      <td>NaN</td>\n",
       "      <td>NaN</td>\n",
       "      <td>NaN</td>\n",
       "      <td>NaN</td>\n",
       "    </tr>\n",
       "    <tr>\n",
       "      <td>Hard Brake</td>\n",
       "      <td>NaN</td>\n",
       "      <td>NaN</td>\n",
       "      <td>NaN</td>\n",
       "      <td>NaN</td>\n",
       "      <td>NaN</td>\n",
       "      <td>NaN</td>\n",
       "      <td>NaN</td>\n",
       "      <td>NaN</td>\n",
       "      <td>NaN</td>\n",
       "      <td>NaN</td>\n",
       "      <td>NaN</td>\n",
       "      <td>NaN</td>\n",
       "      <td>NaN</td>\n",
       "    </tr>\n",
       "    <tr>\n",
       "      <td>Total Idle Time (in mins)</td>\n",
       "      <td>NaN</td>\n",
       "      <td>NaN</td>\n",
       "      <td>1.000000</td>\n",
       "      <td>0.842937</td>\n",
       "      <td>0.499057</td>\n",
       "      <td>0.374878</td>\n",
       "      <td>-0.044871</td>\n",
       "      <td>0.672822</td>\n",
       "      <td>0.728764</td>\n",
       "      <td>0.739642</td>\n",
       "      <td>0.815540</td>\n",
       "      <td>0.225835</td>\n",
       "      <td>0.387356</td>\n",
       "    </tr>\n",
       "    <tr>\n",
       "      <td>Idle Instances</td>\n",
       "      <td>NaN</td>\n",
       "      <td>NaN</td>\n",
       "      <td>0.842937</td>\n",
       "      <td>1.000000</td>\n",
       "      <td>0.708988</td>\n",
       "      <td>0.425201</td>\n",
       "      <td>-0.048750</td>\n",
       "      <td>0.422560</td>\n",
       "      <td>0.516516</td>\n",
       "      <td>0.529514</td>\n",
       "      <td>0.653494</td>\n",
       "      <td>0.086412</td>\n",
       "      <td>0.041719</td>\n",
       "    </tr>\n",
       "    <tr>\n",
       "      <td>Clutch in Idling (in mins)</td>\n",
       "      <td>NaN</td>\n",
       "      <td>NaN</td>\n",
       "      <td>0.499057</td>\n",
       "      <td>0.708988</td>\n",
       "      <td>1.000000</td>\n",
       "      <td>0.758936</td>\n",
       "      <td>0.052024</td>\n",
       "      <td>-0.071850</td>\n",
       "      <td>0.007954</td>\n",
       "      <td>0.000000</td>\n",
       "      <td>0.155070</td>\n",
       "      <td>-0.293702</td>\n",
       "      <td>-0.376192</td>\n",
       "    </tr>\n",
       "    <tr>\n",
       "      <td>Ac in Idle(in mins)</td>\n",
       "      <td>NaN</td>\n",
       "      <td>NaN</td>\n",
       "      <td>0.374878</td>\n",
       "      <td>0.425201</td>\n",
       "      <td>0.758936</td>\n",
       "      <td>1.000000</td>\n",
       "      <td>-0.007403</td>\n",
       "      <td>-0.102071</td>\n",
       "      <td>-0.103604</td>\n",
       "      <td>-0.122036</td>\n",
       "      <td>-0.046371</td>\n",
       "      <td>-0.599251</td>\n",
       "      <td>-0.460321</td>\n",
       "    </tr>\n",
       "    <tr>\n",
       "      <td>Ac in Driving(in mins)</td>\n",
       "      <td>NaN</td>\n",
       "      <td>NaN</td>\n",
       "      <td>-0.044871</td>\n",
       "      <td>-0.048750</td>\n",
       "      <td>0.052024</td>\n",
       "      <td>-0.007403</td>\n",
       "      <td>1.000000</td>\n",
       "      <td>0.473344</td>\n",
       "      <td>0.431827</td>\n",
       "      <td>0.389319</td>\n",
       "      <td>0.341279</td>\n",
       "      <td>0.265540</td>\n",
       "      <td>0.326256</td>\n",
       "    </tr>\n",
       "    <tr>\n",
       "      <td>Overspeed (in mins)</td>\n",
       "      <td>NaN</td>\n",
       "      <td>NaN</td>\n",
       "      <td>0.672822</td>\n",
       "      <td>0.422560</td>\n",
       "      <td>-0.071850</td>\n",
       "      <td>-0.102071</td>\n",
       "      <td>0.473344</td>\n",
       "      <td>1.000000</td>\n",
       "      <td>0.990012</td>\n",
       "      <td>0.984501</td>\n",
       "      <td>0.943876</td>\n",
       "      <td>0.635756</td>\n",
       "      <td>0.727158</td>\n",
       "    </tr>\n",
       "    <tr>\n",
       "      <td>Fuel Used (in litres)</td>\n",
       "      <td>NaN</td>\n",
       "      <td>NaN</td>\n",
       "      <td>0.728764</td>\n",
       "      <td>0.516516</td>\n",
       "      <td>0.007954</td>\n",
       "      <td>-0.103604</td>\n",
       "      <td>0.431827</td>\n",
       "      <td>0.990012</td>\n",
       "      <td>1.000000</td>\n",
       "      <td>0.998646</td>\n",
       "      <td>0.979949</td>\n",
       "      <td>0.663697</td>\n",
       "      <td>0.713562</td>\n",
       "    </tr>\n",
       "    <tr>\n",
       "      <td>Total Distance (in kms)</td>\n",
       "      <td>NaN</td>\n",
       "      <td>NaN</td>\n",
       "      <td>0.739642</td>\n",
       "      <td>0.529514</td>\n",
       "      <td>0.000000</td>\n",
       "      <td>-0.122036</td>\n",
       "      <td>0.389319</td>\n",
       "      <td>0.984501</td>\n",
       "      <td>0.998646</td>\n",
       "      <td>1.000000</td>\n",
       "      <td>0.983971</td>\n",
       "      <td>0.676147</td>\n",
       "      <td>0.713366</td>\n",
       "    </tr>\n",
       "    <tr>\n",
       "      <td>Total Time (in mins)</td>\n",
       "      <td>NaN</td>\n",
       "      <td>NaN</td>\n",
       "      <td>0.815540</td>\n",
       "      <td>0.653494</td>\n",
       "      <td>0.155070</td>\n",
       "      <td>-0.046371</td>\n",
       "      <td>0.341279</td>\n",
       "      <td>0.943876</td>\n",
       "      <td>0.979949</td>\n",
       "      <td>0.983971</td>\n",
       "      <td>1.000000</td>\n",
       "      <td>0.653201</td>\n",
       "      <td>0.645993</td>\n",
       "    </tr>\n",
       "    <tr>\n",
       "      <td>Mileage (kmpl)</td>\n",
       "      <td>NaN</td>\n",
       "      <td>NaN</td>\n",
       "      <td>0.225835</td>\n",
       "      <td>0.086412</td>\n",
       "      <td>-0.293702</td>\n",
       "      <td>-0.599251</td>\n",
       "      <td>0.265540</td>\n",
       "      <td>0.635756</td>\n",
       "      <td>0.663697</td>\n",
       "      <td>0.676147</td>\n",
       "      <td>0.653201</td>\n",
       "      <td>1.000000</td>\n",
       "      <td>0.488722</td>\n",
       "    </tr>\n",
       "    <tr>\n",
       "      <td>Driver Score</td>\n",
       "      <td>NaN</td>\n",
       "      <td>NaN</td>\n",
       "      <td>0.387356</td>\n",
       "      <td>0.041719</td>\n",
       "      <td>-0.376192</td>\n",
       "      <td>-0.460321</td>\n",
       "      <td>0.326256</td>\n",
       "      <td>0.727158</td>\n",
       "      <td>0.713562</td>\n",
       "      <td>0.713366</td>\n",
       "      <td>0.645993</td>\n",
       "      <td>0.488722</td>\n",
       "      <td>1.000000</td>\n",
       "    </tr>\n",
       "  </tbody>\n",
       "</table>\n",
       "</div>"
      ],
      "text/plain": [
       "                            Hard Acceleration  Hard Brake  \\\n",
       "Hard Acceleration                         NaN         NaN   \n",
       "Hard Brake                                NaN         NaN   \n",
       "Total Idle Time (in mins)                 NaN         NaN   \n",
       "Idle Instances                            NaN         NaN   \n",
       "Clutch in Idling (in mins)                NaN         NaN   \n",
       "Ac in Idle(in mins)                       NaN         NaN   \n",
       "Ac in Driving(in mins)                    NaN         NaN   \n",
       "Overspeed (in mins)                       NaN         NaN   \n",
       "Fuel Used (in litres)                     NaN         NaN   \n",
       "Total Distance (in kms)                   NaN         NaN   \n",
       "Total Time (in mins)                      NaN         NaN   \n",
       "Mileage (kmpl)                            NaN         NaN   \n",
       "Driver Score                              NaN         NaN   \n",
       "\n",
       "                            Total Idle Time (in mins)  Idle Instances  \\\n",
       "Hard Acceleration                                 NaN             NaN   \n",
       "Hard Brake                                        NaN             NaN   \n",
       "Total Idle Time (in mins)                    1.000000        0.842937   \n",
       "Idle Instances                               0.842937        1.000000   \n",
       "Clutch in Idling (in mins)                   0.499057        0.708988   \n",
       "Ac in Idle(in mins)                          0.374878        0.425201   \n",
       "Ac in Driving(in mins)                      -0.044871       -0.048750   \n",
       "Overspeed (in mins)                          0.672822        0.422560   \n",
       "Fuel Used (in litres)                        0.728764        0.516516   \n",
       "Total Distance (in kms)                      0.739642        0.529514   \n",
       "Total Time (in mins)                         0.815540        0.653494   \n",
       "Mileage (kmpl)                               0.225835        0.086412   \n",
       "Driver Score                                 0.387356        0.041719   \n",
       "\n",
       "                            Clutch in Idling (in mins)  Ac in Idle(in mins)  \\\n",
       "Hard Acceleration                                  NaN                  NaN   \n",
       "Hard Brake                                         NaN                  NaN   \n",
       "Total Idle Time (in mins)                     0.499057             0.374878   \n",
       "Idle Instances                                0.708988             0.425201   \n",
       "Clutch in Idling (in mins)                    1.000000             0.758936   \n",
       "Ac in Idle(in mins)                           0.758936             1.000000   \n",
       "Ac in Driving(in mins)                        0.052024            -0.007403   \n",
       "Overspeed (in mins)                          -0.071850            -0.102071   \n",
       "Fuel Used (in litres)                         0.007954            -0.103604   \n",
       "Total Distance (in kms)                       0.000000            -0.122036   \n",
       "Total Time (in mins)                          0.155070            -0.046371   \n",
       "Mileage (kmpl)                               -0.293702            -0.599251   \n",
       "Driver Score                                 -0.376192            -0.460321   \n",
       "\n",
       "                            Ac in Driving(in mins)  Overspeed (in mins)  \\\n",
       "Hard Acceleration                              NaN                  NaN   \n",
       "Hard Brake                                     NaN                  NaN   \n",
       "Total Idle Time (in mins)                -0.044871             0.672822   \n",
       "Idle Instances                           -0.048750             0.422560   \n",
       "Clutch in Idling (in mins)                0.052024            -0.071850   \n",
       "Ac in Idle(in mins)                      -0.007403            -0.102071   \n",
       "Ac in Driving(in mins)                    1.000000             0.473344   \n",
       "Overspeed (in mins)                       0.473344             1.000000   \n",
       "Fuel Used (in litres)                     0.431827             0.990012   \n",
       "Total Distance (in kms)                   0.389319             0.984501   \n",
       "Total Time (in mins)                      0.341279             0.943876   \n",
       "Mileage (kmpl)                            0.265540             0.635756   \n",
       "Driver Score                              0.326256             0.727158   \n",
       "\n",
       "                            Fuel Used (in litres)  Total Distance (in kms)  \\\n",
       "Hard Acceleration                             NaN                      NaN   \n",
       "Hard Brake                                    NaN                      NaN   \n",
       "Total Idle Time (in mins)                0.728764                 0.739642   \n",
       "Idle Instances                           0.516516                 0.529514   \n",
       "Clutch in Idling (in mins)               0.007954                 0.000000   \n",
       "Ac in Idle(in mins)                     -0.103604                -0.122036   \n",
       "Ac in Driving(in mins)                   0.431827                 0.389319   \n",
       "Overspeed (in mins)                      0.990012                 0.984501   \n",
       "Fuel Used (in litres)                    1.000000                 0.998646   \n",
       "Total Distance (in kms)                  0.998646                 1.000000   \n",
       "Total Time (in mins)                     0.979949                 0.983971   \n",
       "Mileage (kmpl)                           0.663697                 0.676147   \n",
       "Driver Score                             0.713562                 0.713366   \n",
       "\n",
       "                            Total Time (in mins)  Mileage (kmpl)  Driver Score  \n",
       "Hard Acceleration                            NaN             NaN           NaN  \n",
       "Hard Brake                                   NaN             NaN           NaN  \n",
       "Total Idle Time (in mins)               0.815540        0.225835      0.387356  \n",
       "Idle Instances                          0.653494        0.086412      0.041719  \n",
       "Clutch in Idling (in mins)              0.155070       -0.293702     -0.376192  \n",
       "Ac in Idle(in mins)                    -0.046371       -0.599251     -0.460321  \n",
       "Ac in Driving(in mins)                  0.341279        0.265540      0.326256  \n",
       "Overspeed (in mins)                     0.943876        0.635756      0.727158  \n",
       "Fuel Used (in litres)                   0.979949        0.663697      0.713562  \n",
       "Total Distance (in kms)                 0.983971        0.676147      0.713366  \n",
       "Total Time (in mins)                    1.000000        0.653201      0.645993  \n",
       "Mileage (kmpl)                          0.653201        1.000000      0.488722  \n",
       "Driver Score                            0.645993        0.488722      1.000000  "
      ]
     },
     "execution_count": 163,
     "metadata": {},
     "output_type": "execute_result"
    }
   ],
   "source": [
    "kdf0433.corr()"
   ]
  },
  {
   "cell_type": "code",
   "execution_count": 121,
   "metadata": {},
   "outputs": [],
   "source": [
    "kdf0433[(kdf0433['Total Distance (in kms)'] > 5) & (kdf0433['Total Distance (in kms)'] < 20)][['Total Idle Time (in mins)',\n",
    "        'Idle Instances', 'Clutch in Idling (in mins)', 'Ac in Idle(in mins)', 'Ac in Driving(in mins)', 'Overspeed (in mins)',\n",
    "        'Fuel Used (in litres)', 'Total Distance (in kms)', 'Total Time (in mins)', 'Mileage (kmpl)', 'Driver Score']][:10].plot( \n",
    "        kind='bar', grid = True, title = 'City 6638 for Distance 5 - 20 (km)', figsize=(30, 15))\n",
    "plt.xlabel(\"Trip ID\")\n",
    "plt.savefig('amaze0433_5_20_060420.png')"
   ]
  },
  {
   "cell_type": "code",
   "execution_count": 122,
   "metadata": {},
   "outputs": [],
   "source": [
    "kdf0433[kdf0433['Total Distance (in kms)'] < 5][['Total Idle Time (in mins)', 'Idle Instances', 'Clutch in Idling (in mins)',\n",
    "        'Ac in Idle(in mins)', 'Ac in Driving(in mins)', 'Overspeed (in mins)', 'Fuel Used (in litres)',\n",
    "        'Total Distance (in kms)', 'Total Time (in mins)', 'Mileage (kmpl)', 'Driver Score']].plot(kind = 'bar', grid = True,\n",
    "        figsize=(15, 10), title = 'City 6638 for Distance 2-5 (km)')\n",
    "plt.xlabel(\"Trip ID\")\n",
    "plt.savefig('amaze0433_2_5_060420.png')"
   ]
  },
  {
   "cell_type": "code",
   "execution_count": 123,
   "metadata": {},
   "outputs": [],
   "source": [
    "ax = kdf0433[kdf0433['Total Distance (in kms)'] >20][['Total Idle Time (in mins)', 'Idle Instances', 'Clutch in Idling (in mins)',\n",
    "        'Ac in Idle(in mins)', 'Ac in Driving(in mins)', 'Overspeed (in mins)', 'Fuel Used (in litres)',\n",
    "        'Total Distance (in kms)', 'Total Time (in mins)', 'Mileage (kmpl)', 'Driver Score']].plot(kind = 'bar', grid = True, figsize=(15, 10),\n",
    "                                                                                                   title = 'City 6638 for Distance above 20 km')\n",
    "for i in ax.patches:\n",
    "    # get_x pulls left or right; get_height pushes up or down\n",
    "    ax.text(i.get_x(), i.get_height()+1, \\\n",
    "            str(round((i.get_height()), 2)), fontsize=11, color='black',\n",
    "                )\n",
    "plt.xlabel(\"Trip ID\")\n",
    "plt.savefig('amaze0433_20_060420.png')"
   ]
  },
  {
   "cell_type": "code",
   "execution_count": 22,
   "metadata": {},
   "outputs": [],
   "source": [
    "kdf0433 = kdf0433[kdf0433['Mileage (kmpl)']!= -np.inf]"
   ]
  },
  {
   "cell_type": "code",
   "execution_count": 23,
   "metadata": {},
   "outputs": [
    {
     "data": {
      "text/plain": [
       "array([18., 15., 14., 11., 12., 16., 20., 13., 17.,  8.,  9., 21., 22.,\n",
       "       19.])"
      ]
     },
     "execution_count": 23,
     "metadata": {},
     "output_type": "execute_result"
    }
   ],
   "source": [
    "kdf0433['Mileage (kmpl)'].unique()"
   ]
  },
  {
   "cell_type": "code",
   "execution_count": 140,
   "metadata": {},
   "outputs": [
    {
     "data": {
      "text/plain": [
       "Text(0.5, 0, 'Trip ID')"
      ]
     },
     "execution_count": 140,
     "metadata": {},
     "output_type": "execute_result"
    }
   ],
   "source": [
    "ax = kdf0433[['Driver Score', 'idle (%)', 'clutch (%)']].plot(kind = 'bar', legend = True, grid = True, figsize=(15, 10),\n",
    "    title = 'City 9134 Driver Score with other factors')\n",
    "ax.legend(['Driver Score', '% of clutch pressed during whole Idle Time', '% '])\n",
    "for i in ax.patches:\n",
    "    # get_x pulls left or right; get_height pushes up or down\n",
    "    ax.text(i.get_x(), i.get_height()+1, \\\n",
    "            str(round((i.get_height()), 2)), fontsize=11, color='dimgrey',\n",
    "                )\n",
    "plt.xlabel(\"Trip ID\")\n",
    "# plt.savefig('amaze0433_clutch_idletime_ds_060420.png')\n"
   ]
  },
  {
   "cell_type": "code",
   "execution_count": 132,
   "metadata": {},
   "outputs": [],
   "source": [
    "kdf0433['clutch (%)'] = (kdf0433['Clutch in Idling (in mins)']/kdf0433['Total Idle Time (in mins)'])*100"
   ]
  },
  {
   "cell_type": "code",
   "execution_count": 137,
   "metadata": {},
   "outputs": [],
   "source": [
    "kdf0433['idle (%)'] = (kdf0433['Total Idle Time (in mins)']/kdf0433['Total Time (in mins)'])*100"
   ]
  },
  {
   "cell_type": "code",
   "execution_count": 134,
   "metadata": {},
   "outputs": [],
   "source": [
    "kdf0433['idle instances (%)'] = (kdf0433['Idle Instances']/kdf0433['Total Time (in mins)'])*100"
   ]
  },
  {
   "cell_type": "code",
   "execution_count": 127,
   "metadata": {},
   "outputs": [],
   "source": [
    "ax = kdf0433[['Idle Instances', 'Total Distance (in kms)']].plot(kind = 'bar',\n",
    "    grid = True, figsize=(15, 10), title = 'City 6638 Idle Instances with Total Distance Comparison')\n",
    "for i in ax.patches:\n",
    "    # get_x pulls left or right; get_height pushes up or down\n",
    "    ax.text(i.get_x(), i.get_height()+1, \\\n",
    "            str(round((i.get_height()), 2)), fontsize=11, color='black',\n",
    "                )\n",
    "plt.xlabel(\"Trip ID\")\n",
    "plt.savefig('amaze0433_idleinstances_distance_060420.png')"
   ]
  },
  {
   "cell_type": "code",
   "execution_count": 129,
   "metadata": {},
   "outputs": [],
   "source": [
    "ax = kdf0433[['Mileage (kmpl)', 'Total Distance (in kms)']].plot(kind = 'bar',\n",
    "    grid = True, figsize=(15, 10), title = 'City 6638 Mileage and Total Distance Relationship')\n",
    "for i in ax.patches:\n",
    "    # get_x pulls left or right; get_height pushes up or down\n",
    "    ax.text(i.get_x(), i.get_height()+1, \\\n",
    "            str(round((i.get_height()), 2)), fontsize=11, color='black',\n",
    "                )\n",
    "plt.xlabel(\"Trip ID\")\n",
    "plt.savefig('amaze0433_mileage_distance_060420.png')"
   ]
  },
  {
   "cell_type": "code",
   "execution_count": 145,
   "metadata": {},
   "outputs": [
    {
     "data": {
      "text/plain": [
       "Text(0.5, 0, 'Trip ID')"
      ]
     },
     "execution_count": 145,
     "metadata": {},
     "output_type": "execute_result"
    }
   ],
   "source": [
    "ax = kdf0433[['clutch (%)', 'idle (%)', 'Fuel Used (in litres)', 'tot time']].plot( grid = True, figsize=(15, 10), title = 'City 6638 Mileage and Total Distance Relationship')\n",
    "for i in ax.patches:\n",
    "    # get_x pulls left or right; get_height pushes up or down\n",
    "    ax.text(i.get_x(), i.get_height()+1, \\\n",
    "            str(round((i.get_height()), 2)), fontsize=11, color='black',\n",
    "                )\n",
    "plt.xlabel(\"Trip ID\")\n",
    "# plt.savefig('amaze0433_mileage_distance_060420.png')"
   ]
  },
  {
   "cell_type": "code",
   "execution_count": 143,
   "metadata": {},
   "outputs": [],
   "source": [
    "kdf0433['tot time'] = (kdf0433['Fuel Used (in litres)']/kdf0433['Total Time (in mins)'])*100"
   ]
  },
  {
   "cell_type": "code",
   "execution_count": 147,
   "metadata": {},
   "outputs": [],
   "source": [
    "ax = kdf0433[['Mileage (kmpl)', 'Driver Score']].plot(kind = 'bar',\n",
    "    grid = True, figsize=(15, 10), title = 'City 6638 Mileage with Driver Score')\n",
    "for i in ax.patches:\n",
    "    # get_x pulls left or right; get_height pushes up or down\n",
    "    ax.text(i.get_x(), i.get_height()+1, \\\n",
    "            str(round((i.get_height()), 2)), fontsize=11, color='black',\n",
    "                )\n",
    "plt.xlabel(\"Trip ID\")\n",
    "plt.savefig('amaze0433_mileage_ds_060420.png')"
   ]
  },
  {
   "cell_type": "code",
   "execution_count": 150,
   "metadata": {},
   "outputs": [],
   "source": [
    "ax = kdf0433[['clutch (%)', 'Clutch in Idling (in mins)', 'Total Idle Time (in mins)']].plot(kind = 'bar', legend = True,\n",
    "    grid = True, figsize=(15, 10), title = 'City 6638 Clutch and Idling')\n",
    "plt.legend(['% of time clutch is pressed in Idling', 'Clutch in Idling (mins)', 'Total Idle Time (mins)'])\n",
    "for i in ax.patches:\n",
    "    # get_x pulls left or right; get_height pushes up or down\n",
    "    ax.text(i.get_x(), i.get_height()+1, \\\n",
    "            str(round((i.get_height()), 2)), fontsize=11, color='black',\n",
    "                )\n",
    "plt.xlabel(\"Trip ID\")\n",
    "plt.savefig('amaze0433_clutch_idling_060420.png')"
   ]
  },
  {
   "cell_type": "code",
   "execution_count": null,
   "metadata": {},
   "outputs": [],
   "source": []
  }
 ],
 "metadata": {
  "kernelspec": {
   "display_name": "Python 3",
   "language": "python",
   "name": "python3"
  },
  "language_info": {
   "codemirror_mode": {
    "name": "ipython",
    "version": 3
   },
   "file_extension": ".py",
   "mimetype": "text/x-python",
   "name": "python",
   "nbconvert_exporter": "python",
   "pygments_lexer": "ipython3",
   "version": "3.6.8"
  }
 },
 "nbformat": 4,
 "nbformat_minor": 4
}
